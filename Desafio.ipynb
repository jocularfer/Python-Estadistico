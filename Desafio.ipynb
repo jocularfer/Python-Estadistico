{
 "cells": [
  {
   "cell_type": "markdown",
   "metadata": {},
   "source": [
    "1. El promedio general de los salarios, desviación estándar, quintiles y rango. (hint:\n",
    "escoge la columna adecuada para comparar)"
   ]
  },
  {
   "cell_type": "code",
   "execution_count": 1,
   "metadata": {},
   "outputs": [
    {
     "name": "stdout",
     "output_type": "stream",
     "text": [
      "Descripción estadística de los salarios:\n",
      "count      3755.000000\n",
      "mean     137570.389880\n",
      "std       63055.625278\n",
      "min        5132.000000\n",
      "25%       95000.000000\n",
      "50%      135000.000000\n",
      "75%      175000.000000\n",
      "max      450000.000000\n",
      "Name: salary_in_usd, dtype: float64\n",
      "\n",
      "Quintiles:\n",
      "0.2     83972.8\n",
      "0.4    120000.0\n",
      "0.6    149850.0\n",
      "0.8    185900.0\n",
      "Name: salary_in_usd, dtype: float64\n",
      "\n",
      "Rango:\n",
      "444868.0\n"
     ]
    }
   ],
   "source": [
    "import pandas as pd#FernandoSanchez\n",
    "\n",
    "salaries_data = pd.read_csv('ds_salaries.csv') #FernandoSanchez\n",
    "\n",
    "#FernandoSanchez Descripción estadística de los salarios\n",
    "salario_descripcion = salaries_data['salary_in_usd'].describe()\n",
    "\n",
    "#FernandoSanchez  Quintiles\n",
    "quintiles = salaries_data['salary_in_usd'].quantile([0.2, 0.4, 0.6, 0.8])\n",
    "\n",
    "#FernandoSanchez Rango\n",
    "rango = salario_descripcion['max'] - salario_descripcion['min']\n",
    "\n",
    "print(\"Descripción estadística de los salarios:\")\n",
    "print(salario_descripcion)#FernandoSanchez\n",
    "print(\"\\nQuintiles:\")\n",
    "print(quintiles)\n",
    "print(\"\\nRango:\")\n",
    "print(rango)\n"
   ]
  },
  {
   "cell_type": "markdown",
   "metadata": {},
   "source": [
    "2. Una comparación entre los salarios agrupados por 3 diferentes categorías a tu\n",
    "elección. ¿Para cuál de ellas las medidas de tendencia central son más\n",
    "representativas? ¿Para cuál son menos representativas? Explica."
   ]
  },
  {
   "cell_type": "code",
   "execution_count": 2,
   "metadata": {},
   "outputs": [
    {
     "name": "stdout",
     "output_type": "stream",
     "text": [
      "\n",
      "Medidas de tendencia central agrupadas por experiencia:\n",
      "                   count           mean           std      min       25%   \n",
      "experience_level                                                           \n",
      "EN                 320.0   78546.284375  52225.424309   5409.0   40000.0  \\\n",
      "EX                 114.0  194930.929825  70661.929661  15000.0  145000.0   \n",
      "MI                 805.0  104525.939130  54387.685128   5132.0   66837.0   \n",
      "SE                2516.0  153051.071542  56896.263954   8000.0  115000.0   \n",
      "\n",
      "                       50%        75%       max  \n",
      "experience_level                                 \n",
      "EN                 70000.0  110009.25  300000.0  \n",
      "EX                196000.0  239000.00  416000.0  \n",
      "MI                100000.0  135000.00  450000.0  \n",
      "SE                146000.0  185900.00  423834.0  \n",
      "\n",
      "Medidas de tendencia central agrupadas por tipo de empleo:\n",
      "                  count           mean            std      min       25%   \n",
      "employment_type                                                            \n",
      "CT                 10.0  113446.900000  130176.746842   7500.0  30117.25  \\\n",
      "FL                 10.0   51807.800000   29458.879336  12000.0  34281.00   \n",
      "FT               3718.0  138314.199570   62452.177613   5132.0  95599.00   \n",
      "PT                 17.0   39533.705882   38312.145181   5409.0  12000.00   \n",
      "\n",
      "                      50%       75%       max  \n",
      "employment_type                                \n",
      "CT                75000.0  103750.0  416000.0  \n",
      "FL                50000.0   57500.0  100000.0  \n",
      "FT               135000.0  175075.0  450000.0  \n",
      "PT                21669.0   52533.0  125404.0  \n",
      "\n",
      "Medidas de tendencia central agrupadas por tamaño de la empresa:\n",
      "               count           mean           std     min        25%   \n",
      "company_size                                                           \n",
      "L              454.0  118300.982379  75832.391505  5409.0   60830.75  \\\n",
      "M             3153.0  143130.548367  58992.813382  5132.0  102100.00   \n",
      "S              148.0   78226.682432  61955.141792  5679.0   35668.00   \n",
      "\n",
      "                   50%        75%       max  \n",
      "company_size                                 \n",
      "L             108500.0  159175.00  423834.0  \n",
      "M             140000.0  180000.00  450000.0  \n",
      "S              62146.0  107481.75  416000.0  \n"
     ]
    }
   ],
   "source": [
    "#FernandoSanchez Agrupar por experiencia, tipo de empleo y tamaño de la empresa\n",
    "grouped_by_experience = salaries_data.groupby('experience_level')['salary_in_usd']\n",
    "grouped_by_employment_type = salaries_data.groupby('employment_type')['salary_in_usd']\n",
    "grouped_by_company_size = salaries_data.groupby('company_size')['salary_in_usd']\n",
    "\n",
    "#FernandoSanchez Medidas de tendencia central\n",
    "central_tendency_experience = grouped_by_experience.describe()\n",
    "central_tendency_employment_type = grouped_by_employment_type.describe()\n",
    "central_tendency_company_size = grouped_by_company_size.describe()\n",
    "\n",
    "print(\"\\nMedidas de tendencia central agrupadas por experiencia:\")\n",
    "print(central_tendency_experience)#FernandoSanchez\n",
    "print(\"\\nMedidas de tendencia central agrupadas por tipo de empleo:\")\n",
    "print(central_tendency_employment_type)\n",
    "print(\"\\nMedidas de tendencia central agrupadas por tamaño de la empresa:\")\n",
    "print(central_tendency_company_size)\n"
   ]
  },
  {
   "cell_type": "markdown",
   "metadata": {},
   "source": [
    "3. ¿Qué cargos reciben mejores sueldos en las empresas con sede en Estados Unidos?"
   ]
  },
  {
   "cell_type": "code",
   "execution_count": 3,
   "metadata": {},
   "outputs": [
    {
     "name": "stdout",
     "output_type": "stream",
     "text": [
      "\n",
      "Medidas de tendencia central para diferentes cargos en empresas de Estados Unidos:\n",
      "                                     count           mean            std   \n",
      "job_title                                                                  \n",
      "AI Developer                           1.0  200000.000000            NaN  \\\n",
      "AI Scientist                           7.0  113428.571429   88624.408118   \n",
      "Analytics Engineer                    92.0  159024.347826   49826.443447   \n",
      "Applied Data Scientist                 3.0  238000.000000  123381.522117   \n",
      "Applied Machine Learning Engineer      1.0  130000.000000            NaN   \n",
      "...                                    ...            ...            ...   \n",
      "Principal Machine Learning Engineer    1.0  190000.000000            NaN   \n",
      "Product Data Analyst                   2.0  120000.000000   28284.271247   \n",
      "Research Engineer                     31.0  168156.580645   49705.350146   \n",
      "Research Scientist                    58.0  179146.206897   70309.625626   \n",
      "Staff Data Scientist                   1.0  105000.000000            NaN   \n",
      "\n",
      "                                          min       25%       50%       75%   \n",
      "job_title                                                                     \n",
      "AI Developer                         200000.0  200000.0  200000.0  200000.0  \\\n",
      "AI Scientist                          12000.0   31000.0  120000.0  200000.0   \n",
      "Analytics Engineer                    48000.0  124375.0  151000.0  190000.0   \n",
      "Applied Data Scientist               157000.0  167000.0  177000.0  278500.0   \n",
      "Applied Machine Learning Engineer    130000.0  130000.0  130000.0  130000.0   \n",
      "...                                       ...       ...       ...       ...   \n",
      "Principal Machine Learning Engineer  190000.0  190000.0  190000.0  190000.0   \n",
      "Product Data Analyst                 100000.0  110000.0  120000.0  130000.0   \n",
      "Research Engineer                    100000.0  129000.0  155000.0  200000.0   \n",
      "Research Scientist                    50000.0  144250.0  151800.0  210000.0   \n",
      "Staff Data Scientist                 105000.0  105000.0  105000.0  105000.0   \n",
      "\n",
      "                                          max  \n",
      "job_title                                      \n",
      "AI Developer                         200000.0  \n",
      "AI Scientist                         200000.0  \n",
      "Analytics Engineer                   289800.0  \n",
      "Applied Data Scientist               380000.0  \n",
      "Applied Machine Learning Engineer    130000.0  \n",
      "...                                       ...  \n",
      "Principal Machine Learning Engineer  190000.0  \n",
      "Product Data Analyst                 140000.0  \n",
      "Research Engineer                    293000.0  \n",
      "Research Scientist                   450000.0  \n",
      "Staff Data Scientist                 105000.0  \n",
      "\n",
      "[70 rows x 8 columns]\n"
     ]
    }
   ],
   "source": [
    "#FernandoSanchez Filtrar datos para empresas en Estados Unidos\n",
    "us_companies_data = salaries_data[salaries_data['company_location'] == 'US']\n",
    "\n",
    "#FernandoSanchez Medidas de tendencia central para diferentes cargos\n",
    "salaries_by_job_title = us_companies_data.groupby('job_title')['salary_in_usd'].describe()\n",
    "\n",
    "print(\"\\nMedidas de tendencia central para diferentes cargos en empresas de Estados Unidos:\")\n",
    "print(salaries_by_job_title)#FernandoSanchez\n"
   ]
  }
 ],
 "metadata": {
  "kernelspec": {
   "display_name": "Python 3",
   "language": "python",
   "name": "python3"
  },
  "language_info": {
   "codemirror_mode": {
    "name": "ipython",
    "version": 3
   },
   "file_extension": ".py",
   "mimetype": "text/x-python",
   "name": "python",
   "nbconvert_exporter": "python",
   "pygments_lexer": "ipython3",
   "version": "3.11.1"
  }
 },
 "nbformat": 4,
 "nbformat_minor": 2
}
