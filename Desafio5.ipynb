{
 "cells": [
  {
   "cell_type": "markdown",
   "metadata": {},
   "source": [
    "1. Considerando las variables earn, height y age, vamos a suponer que nuestro dataset\n",
    "fuera una población completa. (Prepara los datos adecuadamente)."
   ]
  },
  {
   "cell_type": "markdown",
   "metadata": {},
   "source": [
    "a. Realiza 5 pruebas con muestras de tamaño n = 25, en cada caso, con niveles\n",
    "de significancia diferentes pero inferiores a 0,1, para confirmar o rechazar las\n",
    "siguientes hipótesis considerando las alternativas. Crea para ello una fórmula\n",
    "que reciba los parámetros adecuados y responda \"con nivel de confianza del\n",
    "...%, se acepta la hipótesis nula/alternativa\".\n",
    "earn height age\n",
    "𝐻0: 𝑥 = 20000\n",
    "𝐻1: 𝑥 ≠ 20000\n",
    "𝐻0: 𝑥 = 55\n",
    "𝐻1: 𝑥 ≠ 55\n",
    "𝐻0: 𝑥 = 44\n",
    "𝐻1: 𝑥 ≠ 44\n",
    "𝐻0: 𝑥 = 35000\n",
    "𝐻1: 𝑥 ≠ 35000\n",
    "𝐻0: 𝑥 = 68\n",
    "𝐻1: 𝑥 ≠ 68\n",
    "𝐻0: 𝑥 = 56\n",
    "𝐻1: 𝑥 ≠ 56\n",
    "𝐻0: 𝑥 = 25000\n",
    "𝐻1: 𝑥 > 25000\n",
    "𝐻0: 𝑥 = 63\n",
    "𝐻1: 𝑥 > 63\n",
    "𝐻0: 𝑥 = 51\n",
    "𝐻1: 𝑥 > 51\n",
    "𝐻0: 𝑥 = 32000\n",
    "𝐻1: 𝑥 < 32000\n",
    "𝐻0: 𝑥 = 70\n",
    "𝐻1: 𝑥 < 70\n",
    "𝐻0: 𝑥 = 62\n",
    "𝐻1: 𝑥 < 62\n"
   ]
  },
  {
   "cell_type": "code",
   "execution_count": 19,
   "metadata": {},
   "outputs": [
    {
     "name": "stdout",
     "output_type": "stream",
     "text": [
      "Con nivel de confianza del 95.0%, se acepta la hipótesis nula.\n",
      "Con nivel de confianza del 99.0%, se rechaza la hipótesis nula a favor de la alternativa.\n",
      "Con nivel de confianza del 95.0%, se rechaza la hipótesis nula a favor de la alternativa.\n",
      "Con nivel de confianza del 99.0%, se rechaza la hipótesis nula a favor de la alternativa.\n",
      "Con nivel de confianza del 95.0%, se rechaza la hipótesis nula a favor de la alternativa.\n"
     ]
    },
    {
     "data": {
      "text/plain": [
       "'No se encuentra evidencia suficiente para rechazar la hipotesis nula en un 5%, por ende no se tiene evidencia para afirmar la media de las ganancias(earn) es diferente de 20000.\\nSe encontró evidencia suficiente para rechazar la hipótesis nula a un nivel de significancia del 1%. Esto sugiere que la media de la altura(height) es diferente de 55.\\nPara la tercera afirmación, se rechaza la hipótesis nula a un nivel de significancia del 5%, indicando que la media de edad(age) es diferente de 44.\\nSimilar a la segunda afirmación, se rechaza la hipótesis nula a un nivel de significancia del 1%, indicando que la media de ganancias(earn) es diferente de 35000.\\nPor ultimo se rechaza la hipótesis nula a un nivel de significancia del 5%, sugiriendo que la media de la altura(height) es diferente de 68.'"
      ]
     },
     "execution_count": 19,
     "metadata": {},
     "output_type": "execute_result"
    }
   ],
   "source": [
    "import pandas as pd\n",
    "from scipy.stats import ttest_1samp, binomtest, ttest_ind\n",
    "\n",
    "#FernandoSanchez Cargar el conjunto de datos\n",
    "data = pd.read_csv('earnings.csv')\n",
    "\n",
    "def prueba_hipotesis_media(data, variable, valor_hipotesis_nula, alternative, alpha):\n",
    "    #FernandoSanchez Realizar la prueba de hipótesis para la media\n",
    "    stat, p_value = ttest_1samp(data[variable], valor_hipotesis_nula)\n",
    "\n",
    "    #FernandoSanchez Comparar el p-value con el nivel de significancia\n",
    "    if alternative == 'two-sided':\n",
    "        p_value *= 2  #FernandoSanchez Ajuste para prueba de dos colas\n",
    "    if p_value < alpha:\n",
    "        resultado = f\"Con nivel de confianza del {(1-alpha)*100}%, se rechaza la hipótesis nula a favor de la alternativa.\"\n",
    "    else:\n",
    "        resultado = f\"Con nivel de confianza del {(1-alpha)*100}%, se acepta la hipótesis nula.\"\n",
    "\n",
    "    return resultado\n",
    "\n",
    "#FernandoSanchez Ejemplos de uso para pruebas de hipótesis media\n",
    "resultado_prueba_1 = prueba_hipotesis_media(data, 'earn', 20000, 'two-sided', 0.05)\n",
    "resultado_prueba_2 = prueba_hipotesis_media(data, 'height', 55, 'two-sided', 0.01)\n",
    "resultado_prueba_3 = prueba_hipotesis_media(data, 'age', 44, 'two-sided', 0.05)\n",
    "resultado_prueba_4 = prueba_hipotesis_media(data, 'earn', 35000, 'two-sided', 0.01)\n",
    "resultado_prueba_5 = prueba_hipotesis_media(data, 'height', 68, 'two-sided', 0.05)\n",
    "\n",
    "print(resultado_prueba_1)\n",
    "print(resultado_prueba_2)\n",
    "print(resultado_prueba_3)\n",
    "print(resultado_prueba_4)\n",
    "print(resultado_prueba_5)\n",
    "\"\"\"No se encuentra evidencia suficiente para rechazar la hipotesis nula en un 5%, por ende no se tiene evidencia para afirmar la media de las ganancias(earn) es diferente de 20000.\n",
    "Se encontró evidencia suficiente para rechazar la hipótesis nula a un nivel de significancia del 1%. Esto sugiere que la media de la altura(height) es diferente de 55.\n",
    "Para la tercera afirmación, se rechaza la hipótesis nula a un nivel de significancia del 5%, indicando que la media de edad(age) es diferente de 44.\n",
    "Similar a la segunda afirmación, se rechaza la hipótesis nula a un nivel de significancia del 1%, indicando que la media de ganancias(earn) es diferente de 35000.\n",
    "Por ultimo se rechaza la hipótesis nula a un nivel de significancia del 5%, sugiriendo que la media de la altura(height) es diferente de 68.\"\"\""
   ]
  },
  {
   "cell_type": "markdown",
   "metadata": {},
   "source": [
    "b. Calcula la media poblacional para cada variable. ¿Son correctos los\n",
    "resultados obtenidos por tus pruebas?"
   ]
  },
  {
   "cell_type": "code",
   "execution_count": 26,
   "metadata": {},
   "outputs": [
    {
     "name": "stdout",
     "output_type": "stream",
     "text": [
      "Media poblacional de earn: 21147.296255506608\n",
      "Media poblacional de height: 66.56883259911895\n",
      "Media poblacional de age: 42.934471365638764\n"
     ]
    }
   ],
   "source": [
    "# Calcular la media poblacional para 'earn'\n",
    "media_earn = data['earn'].mean()\n",
    "\n",
    "# Calcular la media poblacional para 'height'\n",
    "media_height = data['height'].mean()\n",
    "\n",
    "# Calcular la media poblacional para 'age'\n",
    "media_age = data['age'].mean()\n",
    "\n",
    "print(f'Media poblacional de earn: {media_earn}')\n",
    "print(f'Media poblacional de height: {media_height}')\n",
    "print(f'Media poblacional de age: {media_age}')\n",
    "\"\"\"Sacando las medias podemos notar que las pruebas lanzan resultados correctos\"\"\""
   ]
  },
  {
   "cell_type": "markdown",
   "metadata": {},
   "source": [
    "2. Crea una función que estime la proporción de hombres en el dataset, considerando\n",
    "una muestra de 50 individuos, con niveles de significancia de 0,05 y 0,01. Escribe con\n",
    "palabras tus resultados ejecutar la función e interpreta. Compara con la proporción\n",
    "real.\n"
   ]
  },
  {
   "cell_type": "code",
   "execution_count": 25,
   "metadata": {},
   "outputs": [
    {
     "name": "stdout",
     "output_type": "stream",
     "text": [
      "Con nivel de significancia del 5.0%, se rechaza la hipótesis nula a favor de la alternativa.\n",
      "Con nivel de significancia del 1.0%, se rechaza la hipótesis nula a favor de la alternativa.\n"
     ]
    },
    {
     "data": {
      "text/plain": [
       "'El primer resultado indica que, a un nivel de significancia del 5%, se encontró evidencia suficiente para rechazar la hipótesis nula. \\nEn este contexto, la hipótesis nula generalmente afirmaría que la proporción de hombres es igual a 0.5 (50%).\\nSimilar a la primera afirmación, pero con un nivel de significancia más estricto del 1%, sugiere que se encontró una fuerte evidencia para rechazar la hipótesis nula.'"
      ]
     },
     "execution_count": 25,
     "metadata": {},
     "output_type": "execute_result"
    }
   ],
   "source": [
    "def estimar_proporcion(data, variable, n, alpha):\n",
    "    #FernandoSanchez Contar la cantidad de hombres en la población\n",
    "    hombres = data[data[variable] == 1][variable].count()\n",
    "    total_poblacion = len(data)\n",
    "\n",
    "    #FernandoSanchez Verificar que el tamaño de la muestra sea menor o igual al número de éxitos\n",
    "    if n > total_poblacion:\n",
    "        raise ValueError(\"El tamaño de la muestra debe ser menor o igual al tamaño total de la población.\")\n",
    "\n",
    "    #FernandoSanchez Realizar la prueba de proporción\n",
    "    result = binomtest(hombres, n=total_poblacion, p=0.5, alternative='two-sided')\n",
    "\n",
    "    #FernandoSanchez Comparar el p-value con los niveles de significancia\n",
    "    if result.pvalue < alpha:\n",
    "        resultado = f\"Con nivel de significancia del {alpha*100}%, se rechaza la hipótesis nula a favor de la alternativa.\"\n",
    "    else:\n",
    "        resultado = f\"Con nivel de significancia del {alpha*100}%, no se puede rechazar la hipótesis nula.\"\n",
    "\n",
    "    return resultado\n",
    "\n",
    "#FernandoSanchez Ejemplo de uso corregido\n",
    "resultado_estimacion_1 = estimar_proporcion(data, 'male', 50, 0.05)\n",
    "resultado_estimacion_2 = estimar_proporcion(data, 'male', 50, 0.01)\n",
    "\n",
    "print(resultado_estimacion_1)\n",
    "print(resultado_estimacion_2)\n",
    "\"\"\"El primer resultado indica que, a un nivel de significancia del 5%, se encontró evidencia suficiente para rechazar la hipótesis nula. \n",
    "En este contexto, la hipótesis nula generalmente afirmaría que la proporción de hombres es igual a 0.5 (50%).\n",
    "Similar a la primera afirmación, pero con un nivel de significancia más estricto del 1%, sugiere que se encontró una fuerte evidencia para rechazar la hipótesis nula.\"\"\"\n",
    "\n"
   ]
  },
  {
   "cell_type": "markdown",
   "metadata": {},
   "source": [
    "3. Considerando el dataset como una muestra, verifica si el género (male=1 significa\n",
    "‘hombre”) influye sobre el sueldo “earn” de las personas. Explica y justifica tu\n",
    "procedimiento."
   ]
  },
  {
   "cell_type": "code",
   "execution_count": 28,
   "metadata": {},
   "outputs": [
    {
     "name": "stdout",
     "output_type": "stream",
     "text": [
      "Se rechaza la hipótesis nula. Hay evidencia de que el género influye en el sueldo.\n"
     ]
    },
    {
     "data": {
      "text/plain": [
       "'Al poner el valor estandar de significancia notamos que el genero influye en el sueldo'"
      ]
     },
     "execution_count": 28,
     "metadata": {},
     "output_type": "execute_result"
    }
   ],
   "source": [
    "#FernandoSanchez Divide el conjunto de datos en dos grupos según el género\n",
    "earn_male = data[data['male'] == 1]['earn']\n",
    "earn_female = data[data['male'] == 0]['earn']\n",
    "\n",
    "#FernandoSanchez Realiza la prueba de t de muestras independientes\n",
    "t_stat, p_value = ttest_ind(earn_male, earn_female, equal_var=False)\n",
    "\n",
    "#FernandoSanchez Define el nivel de significancia\n",
    "alpha = 0.05\n",
    "\n",
    "#FernandoSanchez Compara el p-value con el nivel de significancia\n",
    "if p_value < alpha:\n",
    "    print(\"Se rechaza la hipótesis nula. Hay evidencia de que el género influye en el sueldo.\")\n",
    "else:\n",
    "    print(\"No se puede rechazar la hipótesis nula. No hay evidencia suficiente para afirmar que el género influye en el sueldo.\")\n",
    "\"\"\"Al poner el valor estandar de significancia notamos que el genero influye en el sueldo\"\"\""
   ]
  }
 ],
 "metadata": {
  "kernelspec": {
   "display_name": "Python 3",
   "language": "python",
   "name": "python3"
  },
  "language_info": {
   "codemirror_mode": {
    "name": "ipython",
    "version": 3
   },
   "file_extension": ".py",
   "mimetype": "text/x-python",
   "name": "python",
   "nbconvert_exporter": "python",
   "pygments_lexer": "ipython3",
   "version": "3.11.1"
  }
 },
 "nbformat": 4,
 "nbformat_minor": 2
}
